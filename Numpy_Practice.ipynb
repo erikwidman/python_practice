{
 "cells": [
  {
   "cell_type": "markdown",
   "id": "cfe956ab",
   "metadata": {},
   "source": [
    "# Numpy Practice\n",
    "\n",
    "https://www.w3schools.com/python/numpy/default.asp\n",
    "\n",
    "NumPy is used for working with arrays. NumPy is short for \"Numerical Python\". It also has functions for working in domain of linear algebra, fourier transform, and matrices.\n",
    "\n",
    "In Python we have lists that serve the purpose of arrays, but they are slow to process. **NumPy aims to provide an array object that is up to 50x faster than traditional Python lists.**\n",
    "\n",
    "The array object in NumPy is called **ndarray**, it provides a lot of supporting functions that make working with ndarray very easy.\n",
    "\n",
    "Arrays are very frequently used in data science, where speed and resources are very important.\n",
    "\n"
   ]
  },
  {
   "cell_type": "code",
   "execution_count": 70,
   "id": "f9f3fd28",
   "metadata": {},
   "outputs": [
    {
     "name": "stdout",
     "output_type": "stream",
     "text": [
      "[1 2 3 4 5]\n"
     ]
    }
   ],
   "source": [
    "import numpy as np\n",
    "#create an array\n",
    "arr = np.array([1,2,3,4,5])\n",
    "print(arr)"
   ]
  },
  {
   "cell_type": "code",
   "execution_count": 71,
   "id": "40929200",
   "metadata": {},
   "outputs": [
    {
     "name": "stdout",
     "output_type": "stream",
     "text": [
      "[1 2 3 4 5]\n"
     ]
    }
   ],
   "source": [
    "#Tuple to array\n",
    "arr = np.array((1,2,3,4,5))\n",
    "print(arr)"
   ]
  },
  {
   "cell_type": "markdown",
   "id": "89c50f06",
   "metadata": {},
   "source": [
    "2-dimensional arrays"
   ]
  },
  {
   "cell_type": "code",
   "execution_count": 72,
   "id": "301ea257",
   "metadata": {},
   "outputs": [
    {
     "name": "stdout",
     "output_type": "stream",
     "text": [
      "[1 2 3 4 5]\n"
     ]
    }
   ],
   "source": [
    "arr2 = np.array([[1,2,3], [4,5,6]])\n",
    "print(arr)"
   ]
  },
  {
   "cell_type": "markdown",
   "id": "6d2d1c89",
   "metadata": {},
   "source": [
    "3-D Arrays (Tensors)"
   ]
  },
  {
   "cell_type": "code",
   "execution_count": 73,
   "id": "2333e34d",
   "metadata": {},
   "outputs": [
    {
     "name": "stdout",
     "output_type": "stream",
     "text": [
      "[[[1 2 3]\n",
      "  [4 5 6]]\n",
      "\n",
      " [[1 2 3]\n",
      "  [7 8 9]]]\n"
     ]
    }
   ],
   "source": [
    "arr3 = np.array([[[1,2,3], [4,5,6]], [[1,2,3], [7,8,9]]])\n",
    "print(arr3)"
   ]
  },
  {
   "cell_type": "markdown",
   "id": "0de3906d",
   "metadata": {},
   "source": [
    "Check number of dimensions."
   ]
  },
  {
   "cell_type": "code",
   "execution_count": 74,
   "id": "722a0db0",
   "metadata": {},
   "outputs": [
    {
     "data": {
      "text/plain": [
       "3"
      ]
     },
     "execution_count": 74,
     "metadata": {},
     "output_type": "execute_result"
    }
   ],
   "source": [
    "arr3.ndim"
   ]
  },
  {
   "cell_type": "code",
   "execution_count": 75,
   "id": "53a527bc",
   "metadata": {},
   "outputs": [
    {
     "data": {
      "text/plain": [
       "1"
      ]
     },
     "execution_count": 75,
     "metadata": {},
     "output_type": "execute_result"
    }
   ],
   "source": [
    "arr.ndim"
   ]
  },
  {
   "cell_type": "markdown",
   "id": "dc8b6cba",
   "metadata": {},
   "source": [
    "Access elements in array"
   ]
  },
  {
   "cell_type": "code",
   "execution_count": 76,
   "id": "aaaa8ba0",
   "metadata": {},
   "outputs": [
    {
     "name": "stdout",
     "output_type": "stream",
     "text": [
      "5\n"
     ]
    }
   ],
   "source": [
    "arr1 = np.array([1,2,3,4,5])\n",
    "print(arr1[4])"
   ]
  },
  {
   "cell_type": "code",
   "execution_count": 77,
   "id": "4e8e4f4c",
   "metadata": {},
   "outputs": [
    {
     "name": "stdout",
     "output_type": "stream",
     "text": [
      "6\n"
     ]
    }
   ],
   "source": [
    "#acess element in 2D array\n",
    "print(arr2[1,2])"
   ]
  },
  {
   "cell_type": "code",
   "execution_count": 78,
   "id": "2c04971c",
   "metadata": {},
   "outputs": [
    {
     "name": "stdout",
     "output_type": "stream",
     "text": [
      "8\n"
     ]
    }
   ],
   "source": [
    "#acess element in 3D array\n",
    "print(arr3[1,1,1])"
   ]
  },
  {
   "cell_type": "code",
   "execution_count": 79,
   "id": "db932a0d",
   "metadata": {},
   "outputs": [
    {
     "name": "stdout",
     "output_type": "stream",
     "text": [
      "[2 3 4]\n"
     ]
    }
   ],
   "source": [
    "#Print range\n",
    "print(arr1[1:4])"
   ]
  },
  {
   "cell_type": "code",
   "execution_count": 80,
   "id": "063ed56c",
   "metadata": {},
   "outputs": [
    {
     "name": "stdout",
     "output_type": "stream",
     "text": [
      "[1 2 3]\n"
     ]
    }
   ],
   "source": [
    "print(arr1[:3])"
   ]
  },
  {
   "cell_type": "code",
   "execution_count": 81,
   "id": "e18f765e",
   "metadata": {},
   "outputs": [
    {
     "name": "stdout",
     "output_type": "stream",
     "text": [
      "[4 5]\n"
     ]
    }
   ],
   "source": [
    "print(arr1[3:])"
   ]
  },
  {
   "cell_type": "code",
   "execution_count": 82,
   "id": "800027cc",
   "metadata": {},
   "outputs": [],
   "source": [
    "#access every other value in array"
   ]
  },
  {
   "cell_type": "code",
   "execution_count": 84,
   "id": "9f099d28",
   "metadata": {},
   "outputs": [
    {
     "data": {
      "text/plain": [
       "array([1, 3, 5])"
      ]
     },
     "execution_count": 84,
     "metadata": {},
     "output_type": "execute_result"
    }
   ],
   "source": [
    "arr1[0:5:2]"
   ]
  },
  {
   "cell_type": "markdown",
   "id": "b03de2e4",
   "metadata": {},
   "source": [
    "## Shape of an Array"
   ]
  },
  {
   "cell_type": "code",
   "execution_count": 32,
   "id": "07ba476d",
   "metadata": {},
   "outputs": [
    {
     "name": "stdout",
     "output_type": "stream",
     "text": [
      "(2, 3)\n"
     ]
    }
   ],
   "source": [
    "arr2.shape"
   ]
  },
  {
   "cell_type": "code",
   "execution_count": 33,
   "id": "f769c517",
   "metadata": {},
   "outputs": [
    {
     "data": {
      "text/plain": [
       "(5,)"
      ]
     },
     "execution_count": 33,
     "metadata": {},
     "output_type": "execute_result"
    }
   ],
   "source": [
    "arr1.shape"
   ]
  },
  {
   "cell_type": "code",
   "execution_count": 34,
   "id": "60a8862b",
   "metadata": {},
   "outputs": [
    {
     "data": {
      "text/plain": [
       "(2, 2, 3)"
      ]
     },
     "execution_count": 34,
     "metadata": {},
     "output_type": "execute_result"
    }
   ],
   "source": [
    "arr3.shape"
   ]
  },
  {
   "cell_type": "markdown",
   "id": "52c86750",
   "metadata": {},
   "source": [
    "## Reshape an Array"
   ]
  },
  {
   "cell_type": "code",
   "execution_count": 38,
   "id": "6b0ce514",
   "metadata": {},
   "outputs": [
    {
     "name": "stdout",
     "output_type": "stream",
     "text": [
      "[[ 1  2  3  4  5]\n",
      " [ 6  7  8  9 10]]\n"
     ]
    }
   ],
   "source": [
    "arr_long = np.array([1,2,3,4,5,6,7,8,9,10])\n",
    "arr4 = arr_long.reshape(2,5)\n",
    "print(arr4)"
   ]
  },
  {
   "cell_type": "markdown",
   "id": "2df4015b",
   "metadata": {},
   "source": [
    "Flatten a multidimensional array into 1-D"
   ]
  },
  {
   "cell_type": "code",
   "execution_count": 40,
   "id": "6e0be0b8",
   "metadata": {},
   "outputs": [
    {
     "name": "stdout",
     "output_type": "stream",
     "text": [
      "[ 1  2  3  4  5  6  7  8  9 10]\n"
     ]
    }
   ],
   "source": [
    "arr5 = arr4.reshape(-1)\n",
    "print(arr5)"
   ]
  },
  {
   "cell_type": "markdown",
   "id": "0a636ec2",
   "metadata": {},
   "source": [
    "## Itterate on an Array"
   ]
  },
  {
   "cell_type": "code",
   "execution_count": 51,
   "id": "387cbf65",
   "metadata": {},
   "outputs": [
    {
     "name": "stdout",
     "output_type": "stream",
     "text": [
      "[0.2 0.4 0.6 0.8 1.  1.2 1.4 1.6 1.8 2. ]\n"
     ]
    }
   ],
   "source": [
    "ls = []\n",
    "arr6 = np.array([])\n",
    "\n",
    "for i in arr5:\n",
    "    ls.append(i/5)\n",
    "    \n",
    "#print(arr6)\n",
    "#Convert list back to array\n",
    "arr7 = np.array(ls)\n",
    "print(arr7)"
   ]
  },
  {
   "cell_type": "markdown",
   "id": "f9b9bfa2",
   "metadata": {},
   "source": [
    "## Joining Arrays"
   ]
  },
  {
   "cell_type": "code",
   "execution_count": 58,
   "id": "b22cec69",
   "metadata": {},
   "outputs": [
    {
     "name": "stdout",
     "output_type": "stream",
     "text": [
      "[1 2 3 4 5 6]\n"
     ]
    }
   ],
   "source": [
    "arr_1 = np.array([1, 2, 3])\n",
    "arr_2 = np.array([4, 5, 6])\n",
    "\n",
    "#Join arrays\n",
    "arr_3 = np.concatenate((arr_1, arr_2))\n",
    "print(arr_3)"
   ]
  },
  {
   "cell_type": "markdown",
   "id": "41f330ee",
   "metadata": {},
   "source": [
    "Stacking along columns"
   ]
  },
  {
   "cell_type": "code",
   "execution_count": 60,
   "id": "7949004a",
   "metadata": {},
   "outputs": [
    {
     "name": "stdout",
     "output_type": "stream",
     "text": [
      "[[1 2 3]\n",
      " [4 5 6]]\n"
     ]
    }
   ],
   "source": [
    "arr_3_stack = np.vstack((arr_1, arr_2))\n",
    "print (arr_3_stack)"
   ]
  },
  {
   "cell_type": "markdown",
   "id": "147889fa",
   "metadata": {},
   "source": [
    "## Search Arrays"
   ]
  },
  {
   "cell_type": "code",
   "execution_count": 63,
   "id": "0022e31d",
   "metadata": {},
   "outputs": [
    {
     "name": "stdout",
     "output_type": "stream",
     "text": [
      "(array([ 0,  4, 10, 16]),)\n"
     ]
    }
   ],
   "source": [
    "arr_s = np.array([2, 5, 3, 7, 2, 23, 5, 76 ,12 , 44, 2, 5, 76, 9, 45, 22, 2, 1])\n",
    "\n",
    "#Will return location of the value of 2\n",
    "x = np.where(arr_s == 2)\n",
    "print(x)"
   ]
  },
  {
   "cell_type": "markdown",
   "id": "92629df7",
   "metadata": {},
   "source": [
    "## Sort Arrays"
   ]
  },
  {
   "cell_type": "code",
   "execution_count": 64,
   "id": "3bab1231",
   "metadata": {},
   "outputs": [
    {
     "name": "stdout",
     "output_type": "stream",
     "text": [
      "[ 1  2  2  2  2  3  5  5  5  7  9 12 22 23 44 45 76 76]\n"
     ]
    }
   ],
   "source": [
    "#sort arr_s array\n",
    "arr_sort = np.sort(arr_s)\n",
    "print(arr_sort)"
   ]
  },
  {
   "cell_type": "code",
   "execution_count": 65,
   "id": "908177f3",
   "metadata": {},
   "outputs": [
    {
     "name": "stdout",
     "output_type": "stream",
     "text": [
      "['apple' 'banana' 'cherry']\n"
     ]
    }
   ],
   "source": [
    "#alphabetical sort\n",
    "\n",
    "arr = np.array(['banana', 'cherry', 'apple'])\n",
    "print(np.sort(arr))"
   ]
  },
  {
   "cell_type": "markdown",
   "id": "757b1ac4",
   "metadata": {},
   "source": [
    "## Filter Arrays\n",
    "Filter out specific value that meet certain logic criteria."
   ]
  },
  {
   "cell_type": "code",
   "execution_count": 69,
   "id": "d4ee4715",
   "metadata": {},
   "outputs": [
    {
     "name": "stdout",
     "output_type": "stream",
     "text": [
      "[ 2  4  6  8 10]\n"
     ]
    }
   ],
   "source": [
    "arr = np.array([1, 2, 3, 4, 5, 6, 7, 8, 9, 10, 11])\n",
    "\n",
    "#create emply list\n",
    "ls_filt = []\n",
    "\n",
    "for i in arr:\n",
    "    #only add value is it is complete divisible by 2\n",
    "    if i % 2 == 0:\n",
    "        ls_filt.append(i)\n",
    "#convert list to array\n",
    "arr_filt = np.array(ls_filt)\n",
    "        \n",
    "print(arr_filt)"
   ]
  },
  {
   "cell_type": "code",
   "execution_count": null,
   "id": "91ed225b",
   "metadata": {},
   "outputs": [],
   "source": []
  }
 ],
 "metadata": {
  "kernelspec": {
   "display_name": "Python 3 (ipykernel)",
   "language": "python",
   "name": "python3"
  },
  "language_info": {
   "codemirror_mode": {
    "name": "ipython",
    "version": 3
   },
   "file_extension": ".py",
   "mimetype": "text/x-python",
   "name": "python",
   "nbconvert_exporter": "python",
   "pygments_lexer": "ipython3",
   "version": "3.9.7"
  }
 },
 "nbformat": 4,
 "nbformat_minor": 5
}
