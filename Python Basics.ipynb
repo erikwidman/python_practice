{
 "cells": [
  {
   "cell_type": "markdown",
   "id": "907c08fa",
   "metadata": {},
   "source": [
    "This is a practice notebook of basic python programming. I'm using https://www.w3schools.com/python/python_getstarted.asp as my source of training in this notebook"
   ]
  },
  {
   "cell_type": "markdown",
   "id": "9c3178db",
   "metadata": {},
   "source": [
    "# Indentation"
   ]
  },
  {
   "cell_type": "code",
   "execution_count": 95,
   "id": "d208ee72",
   "metadata": {},
   "outputs": [
    {
     "name": "stdout",
     "output_type": "stream",
     "text": [
      "Hello, World\n"
     ]
    }
   ],
   "source": [
    "if 3 > 2:\n",
    "    print(\"Hello, World\")\n"
   ]
  },
  {
   "cell_type": "markdown",
   "id": "6da4256d",
   "metadata": {},
   "source": [
    "# Variables"
   ]
  },
  {
   "cell_type": "code",
   "execution_count": 38,
   "id": "9f7e92e6",
   "metadata": {},
   "outputs": [
    {
     "name": "stdout",
     "output_type": "stream",
     "text": [
      "7\n",
      "10\n"
     ]
    }
   ],
   "source": [
    "x = 2\n",
    "y = 5\n",
    "z = x + y\n",
    "print(z)\n",
    "print (x * y)"
   ]
  },
  {
   "cell_type": "code",
   "execution_count": 18,
   "id": "afeee22b",
   "metadata": {},
   "outputs": [
    {
     "name": "stdout",
     "output_type": "stream",
     "text": [
      "john\n"
     ]
    }
   ],
   "source": [
    "a = \"john\"\n",
    "b = 100\n",
    "print(a)"
   ]
  },
  {
   "cell_type": "code",
   "execution_count": 20,
   "id": "bae2f978",
   "metadata": {},
   "outputs": [
    {
     "name": "stdout",
     "output_type": "stream",
     "text": [
      "3\n",
      "apple\n"
     ]
    }
   ],
   "source": [
    "#if you want to specify the data type in a variable you can use casting\n",
    "a = int(3)\n",
    "b = str(\"apple\")\n",
    "print(a)\n",
    "print(b)"
   ]
  },
  {
   "cell_type": "code",
   "execution_count": 24,
   "id": "bff9d6f6",
   "metadata": {},
   "outputs": [
    {
     "data": {
      "text/plain": [
       "int"
      ]
     },
     "execution_count": 24,
     "metadata": {},
     "output_type": "execute_result"
    }
   ],
   "source": [
    "#get data type with the type function\n",
    "type(a)"
   ]
  },
  {
   "cell_type": "code",
   "execution_count": 25,
   "id": "b8b63dea",
   "metadata": {},
   "outputs": [
    {
     "data": {
      "text/plain": [
       "str"
      ]
     },
     "execution_count": 25,
     "metadata": {},
     "output_type": "execute_result"
    }
   ],
   "source": [
    "type(b)"
   ]
  },
  {
   "cell_type": "code",
   "execution_count": 32,
   "id": "9f09ae54",
   "metadata": {},
   "outputs": [
    {
     "name": "stdout",
     "output_type": "stream",
     "text": [
      "1\n",
      "2\n",
      "3.5\n",
      "10.5\n",
      "cherry\n"
     ]
    },
    {
     "data": {
      "text/plain": [
       "float"
      ]
     },
     "execution_count": 32,
     "metadata": {},
     "output_type": "execute_result"
    }
   ],
   "source": [
    "#Assign variables in same line\n",
    "a, b, c, e = 1, 2, 3.5, \"cherry\"\n",
    "d = (a + b)*c\n",
    "print(a)\n",
    "print(b)\n",
    "print(c)\n",
    "print(d)\n",
    "print(e)\n",
    "type(c)"
   ]
  },
  {
   "cell_type": "markdown",
   "id": "66871264",
   "metadata": {},
   "source": [
    "Unpack list to multiple variable"
   ]
  },
  {
   "cell_type": "code",
   "execution_count": 42,
   "id": "1df13859",
   "metadata": {},
   "outputs": [
    {
     "name": "stdout",
     "output_type": "stream",
     "text": [
      "apple banana orange\n"
     ]
    }
   ],
   "source": [
    "fruit = [\"apple\",\"banana\",'orange']\n",
    "a, b, o = fruit\n",
    "print(a, b, o)"
   ]
  },
  {
   "cell_type": "markdown",
   "id": "d7c5b6a7",
   "metadata": {},
   "source": [
    "Create a global variable and call it in a function"
   ]
  },
  {
   "cell_type": "code",
   "execution_count": 47,
   "id": "b8fd65e6",
   "metadata": {},
   "outputs": [
    {
     "name": "stdout",
     "output_type": "stream",
     "text": [
      "I love bananas\n",
      "I love apples\n"
     ]
    }
   ],
   "source": [
    "a = \"apples\"\n",
    "\n",
    "def fruit():\n",
    "    a = \"bananas\"\n",
    "    print (\"I love\", a)\n",
    "\n",
    "fruit()\n",
    "\n",
    "print(\"I love\", a)"
   ]
  },
  {
   "cell_type": "markdown",
   "id": "54043e66",
   "metadata": {},
   "source": [
    "## Data Types"
   ]
  },
  {
   "cell_type": "markdown",
   "id": "9026eb14",
   "metadata": {},
   "source": [
    "Text Type:\tstr\n",
    "\n",
    "Numeric Types:\tint, float, complex\n",
    "\n",
    "Sequence Types:\tlist, tuple, range\n",
    "\n",
    "Mapping Type:\tdict\n",
    "\n",
    "Set Types:\tset, frozenset\n",
    "\n",
    "Boolean Type:\tbool\n",
    "\n",
    "Binary Types:\tbytes, bytearray, memoryview\n",
    "\n",
    "None Type:\tNoneType"
   ]
  },
  {
   "cell_type": "markdown",
   "id": "29fa5c4a",
   "metadata": {},
   "source": [
    "# Strings"
   ]
  },
  {
   "cell_type": "markdown",
   "id": "73d94817",
   "metadata": {},
   "source": [
    "Strings are arrays. Print a certain caracter in a string.\n",
    "Loop through a long string with a for loop."
   ]
  },
  {
   "cell_type": "code",
   "execution_count": 248,
   "id": "ac8ea686",
   "metadata": {},
   "outputs": [
    {
     "name": "stdout",
     "output_type": "stream",
     "text": [
      "a\n"
     ]
    }
   ],
   "source": [
    "a = \"I want to go to the beach\"\n",
    "print(a[3])"
   ]
  },
  {
   "cell_type": "code",
   "execution_count": 246,
   "id": "a18fc18e",
   "metadata": {},
   "outputs": [
    {
     "name": "stdout",
     "output_type": "stream",
     "text": [
      "I\n",
      " \n",
      "w\n",
      "a\n",
      "n\n",
      "t\n",
      " \n",
      "t\n",
      "o\n",
      " \n",
      "g\n",
      "o\n",
      " \n",
      "t\n",
      "o\n",
      " \n",
      "t\n",
      "h\n",
      "e\n",
      " \n",
      "b\n",
      "e\n",
      "a\n",
      "c\n",
      "h\n"
     ]
    }
   ],
   "source": [
    "for i in a:\n",
    "    print(i)"
   ]
  },
  {
   "cell_type": "code",
   "execution_count": 251,
   "id": "db1736ee",
   "metadata": {},
   "outputs": [
    {
     "name": "stdout",
     "output_type": "stream",
     "text": [
      "I\n",
      "want\n",
      "to\n",
      "go\n",
      "to\n",
      "the\n",
      "beach\n"
     ]
    }
   ],
   "source": [
    "#tokenize and print by word\n",
    "l = a.split()\n",
    "for i in l: print(i)"
   ]
  },
  {
   "cell_type": "code",
   "execution_count": 65,
   "id": "5a8eeff2",
   "metadata": {},
   "outputs": [
    {
     "data": {
      "text/plain": [
       "25"
      ]
     },
     "execution_count": 65,
     "metadata": {},
     "output_type": "execute_result"
    }
   ],
   "source": [
    "#check string length\n",
    "len(a)"
   ]
  },
  {
   "cell_type": "code",
   "execution_count": 68,
   "id": "2b5a1767",
   "metadata": {},
   "outputs": [
    {
     "name": "stdout",
     "output_type": "stream",
     "text": [
      "yes\n"
     ]
    }
   ],
   "source": [
    "#check if word is in string\n",
    "if \"beach\" in a:\n",
    "    print(\"yes\")"
   ]
  },
  {
   "cell_type": "code",
   "execution_count": 69,
   "id": "afa21b17",
   "metadata": {},
   "outputs": [
    {
     "name": "stdout",
     "output_type": "stream",
     "text": [
      "No poop here\n"
     ]
    }
   ],
   "source": [
    "#Check is a word is not in the text\n",
    "if \"poop\" not in a:\n",
    "    print(\"No poop here\")"
   ]
  },
  {
   "cell_type": "code",
   "execution_count": 70,
   "id": "eaac028e",
   "metadata": {},
   "outputs": [
    {
     "name": "stdout",
     "output_type": "stream",
     "text": [
      "wan\n"
     ]
    }
   ],
   "source": [
    "#Return a range of values in a string\n",
    "print(a[2:5])"
   ]
  },
  {
   "cell_type": "code",
   "execution_count": 71,
   "id": "9f7afd39",
   "metadata": {},
   "outputs": [
    {
     "name": "stdout",
     "output_type": "stream",
     "text": [
      "I want to \n"
     ]
    }
   ],
   "source": [
    "#Return a range of values in a string from the start\n",
    "print(a[:10])"
   ]
  },
  {
   "cell_type": "code",
   "execution_count": 72,
   "id": "7a47a4d8",
   "metadata": {},
   "outputs": [
    {
     "name": "stdout",
     "output_type": "stream",
     "text": [
      "go to the beach\n"
     ]
    }
   ],
   "source": [
    "#Return a range of values in a string from the end\n",
    "print(a[10:])"
   ]
  },
  {
   "cell_type": "code",
   "execution_count": 73,
   "id": "d69afa76",
   "metadata": {},
   "outputs": [
    {
     "name": "stdout",
     "output_type": "stream",
     "text": [
      "I want to go to the beach\n"
     ]
    }
   ],
   "source": [
    "#Return all values\n",
    "print(a[:])"
   ]
  },
  {
   "cell_type": "code",
   "execution_count": 84,
   "id": "be71ac36",
   "metadata": {},
   "outputs": [
    {
     "name": "stdout",
     "output_type": "stream",
     "text": [
      "I WANT TO GO TO THE BEACH\n"
     ]
    }
   ],
   "source": [
    "#make string upper case\n",
    "b = a.upper()\n",
    "print(b)"
   ]
  },
  {
   "cell_type": "code",
   "execution_count": 85,
   "id": "461e9b48",
   "metadata": {},
   "outputs": [
    {
     "name": "stdout",
     "output_type": "stream",
     "text": [
      "I WANT TO GO TO THE BEACH\n"
     ]
    }
   ],
   "source": [
    "#make string lower case\n",
    "c = a.lower()\n",
    "print(b)"
   ]
  },
  {
   "cell_type": "markdown",
   "id": "b501d313",
   "metadata": {},
   "source": [
    "You can had the \"tab: key on the keyboard after you type \".\" to see the different methods available."
   ]
  },
  {
   "cell_type": "code",
   "execution_count": 88,
   "id": "616f1c37",
   "metadata": {},
   "outputs": [
    {
     "name": "stdout",
     "output_type": "stream",
     "text": [
      "I WANT TO GO TO THE BEACHi want to go to the beach I WANT TO GO TO THE BEACH i want to go to the beach\n"
     ]
    }
   ],
   "source": [
    "d = b + c\n",
    "e = b + \" \" + c\n",
    "print(d, e)"
   ]
  },
  {
   "cell_type": "markdown",
   "id": "fe2b315f",
   "metadata": {},
   "source": [
    "Place variables in strings"
   ]
  },
  {
   "cell_type": "code",
   "execution_count": 92,
   "id": "640cb50c",
   "metadata": {},
   "outputs": [
    {
     "name": "stdout",
     "output_type": "stream",
     "text": [
      "My name is John and I'm 24\n"
     ]
    }
   ],
   "source": [
    "age = 24\n",
    "txt = \"My name is John and I'm {}\"\n",
    "print(txt.format(age))"
   ]
  },
  {
   "cell_type": "code",
   "execution_count": 94,
   "id": "bb70a7e4",
   "metadata": {},
   "outputs": [
    {
     "name": "stdout",
     "output_type": "stream",
     "text": [
      "Today it's rain and the weather is rain and I want to eat apples\n"
     ]
    }
   ],
   "source": [
    "date = \"5/21\"\n",
    "weather = \"rain\"\n",
    "food = \"apples\"\n",
    "txt = \"Today it's {} and the weather is {} and I want to eat {}\"\n",
    "print(txt.format(weather, weather, food))"
   ]
  },
  {
   "cell_type": "markdown",
   "id": "b76b7310",
   "metadata": {},
   "source": [
    "## Operators"
   ]
  },
  {
   "cell_type": "markdown",
   "id": "033521da",
   "metadata": {},
   "source": [
    "https://www.w3schools.com/python/python_operators.asp\n",
    "\n",
    "==\tEqual\n",
    "\n",
    "!=\tNot equal\n",
    "\n",
    "\">\tGreater than\"\n",
    "\n",
    "<\tLess than\n",
    "\n",
    "\">=\tGreater than or equal to\"\n",
    "\n",
    "<=\tLess than or equal to"
   ]
  },
  {
   "cell_type": "markdown",
   "id": "6181250d",
   "metadata": {},
   "source": [
    "## Lists"
   ]
  },
  {
   "cell_type": "code",
   "execution_count": 96,
   "id": "1e7fa8d7",
   "metadata": {},
   "outputs": [
    {
     "name": "stdout",
     "output_type": "stream",
     "text": [
      "['apple', 'poop', 'pudding']\n"
     ]
    }
   ],
   "source": [
    "#simple list\n",
    "my_list = [\"apple\", \"poop\", \"pudding\"]\n",
    "print(my_list)"
   ]
  },
  {
   "cell_type": "code",
   "execution_count": 97,
   "id": "a27cc229",
   "metadata": {},
   "outputs": [
    {
     "name": "stdout",
     "output_type": "stream",
     "text": [
      "['apple', 10, 'poop', 4.5, 'pudding']\n"
     ]
    }
   ],
   "source": [
    "#you can mix data types in a list\n",
    "my_list = [\"apple\", 10, \"poop\", 4.5, \"pudding\"]\n",
    "print(my_list)"
   ]
  },
  {
   "cell_type": "code",
   "execution_count": 98,
   "id": "568469ed",
   "metadata": {},
   "outputs": [
    {
     "name": "stdout",
     "output_type": "stream",
     "text": [
      "['apple', 10]\n"
     ]
    }
   ],
   "source": [
    "print(my_list[:2])"
   ]
  },
  {
   "cell_type": "code",
   "execution_count": 99,
   "id": "ee992c7c",
   "metadata": {},
   "outputs": [
    {
     "name": "stdout",
     "output_type": "stream",
     "text": [
      "We got poop\n"
     ]
    }
   ],
   "source": [
    "#Check if item is in list\n",
    "if \"poop\" in my_list:\n",
    "    print(\"We got poop\")\n"
   ]
  },
  {
   "cell_type": "code",
   "execution_count": 100,
   "id": "20c85baf",
   "metadata": {},
   "outputs": [
    {
     "name": "stdout",
     "output_type": "stream",
     "text": [
      "['apple', 'banana', 'poop', 4.5, 'pudding']\n"
     ]
    }
   ],
   "source": [
    "#Change a value \n",
    "my_list[1] = \"banana\" \n",
    "print(my_list)"
   ]
  },
  {
   "cell_type": "code",
   "execution_count": 101,
   "id": "ed4d70fb",
   "metadata": {},
   "outputs": [
    {
     "name": "stdout",
     "output_type": "stream",
     "text": [
      "['apple', 'banana', 'Orange', 'poop', 4.5, 'pudding']\n"
     ]
    }
   ],
   "source": [
    "#insert into list\n",
    "my_list.insert(2, \"Orange\")\n",
    "print(my_list)"
   ]
  },
  {
   "cell_type": "code",
   "execution_count": 102,
   "id": "7e2cd7bc",
   "metadata": {},
   "outputs": [],
   "source": [
    "my_list2 = [\"pop\", 'hop', \"flop\"]"
   ]
  },
  {
   "cell_type": "code",
   "execution_count": 103,
   "id": "44182e76",
   "metadata": {},
   "outputs": [
    {
     "name": "stdout",
     "output_type": "stream",
     "text": [
      "['apple', 'banana', 'Orange', 'poop', 4.5, 'pudding', 'pop', 'hop', 'flop']\n"
     ]
    }
   ],
   "source": [
    "l3 = my_list + my_list2\n",
    "print(l3)"
   ]
  },
  {
   "cell_type": "code",
   "execution_count": 105,
   "id": "dc486a4d",
   "metadata": {},
   "outputs": [
    {
     "name": "stdout",
     "output_type": "stream",
     "text": [
      "apple\n",
      "banana\n",
      "Orange\n",
      "poop\n",
      "4.5\n",
      "pudding\n",
      "pop\n",
      "hop\n",
      "flop\n"
     ]
    }
   ],
   "source": [
    "#Loop a list and print values\n",
    "for i in l3:\n",
    "    print(i)"
   ]
  },
  {
   "cell_type": "code",
   "execution_count": 106,
   "id": "484365e9",
   "metadata": {},
   "outputs": [],
   "source": [
    "#loop through list with while loop"
   ]
  },
  {
   "cell_type": "code",
   "execution_count": 107,
   "id": "120c8a4e",
   "metadata": {},
   "outputs": [
    {
     "name": "stdout",
     "output_type": "stream",
     "text": [
      "apple\n",
      "banana\n",
      "Orange\n",
      "poop\n",
      "4.5\n",
      "pudding\n",
      "pop\n",
      "hop\n",
      "flop\n"
     ]
    }
   ],
   "source": [
    "i=0\n",
    "while i < len(l3):\n",
    "    print(l3[i])\n",
    "    i=i+1"
   ]
  },
  {
   "cell_type": "code",
   "execution_count": 109,
   "id": "1bc54179",
   "metadata": {},
   "outputs": [],
   "source": [
    "#remove item from list\n",
    "l3.remove(4.5)"
   ]
  },
  {
   "cell_type": "code",
   "execution_count": 110,
   "id": "2e455f9c",
   "metadata": {},
   "outputs": [
    {
     "name": "stdout",
     "output_type": "stream",
     "text": [
      "apple\n",
      "banana\n",
      "Orange\n",
      "poop\n",
      "4.5\n",
      "pudding\n"
     ]
    },
    {
     "data": {
      "text/plain": [
       "[None, None, None, None, None, None]"
      ]
     },
     "execution_count": 110,
     "metadata": {},
     "output_type": "execute_result"
    }
   ],
   "source": [
    "#short hand for loop\n",
    "[print(x) for x in my_list]"
   ]
  },
  {
   "cell_type": "code",
   "execution_count": 111,
   "id": "60001c8c",
   "metadata": {},
   "outputs": [
    {
     "name": "stdout",
     "output_type": "stream",
     "text": [
      "['orange', 'ollo', 'clown']\n"
     ]
    }
   ],
   "source": [
    "#Create a new list of values only containing \"o\"\n",
    "\n",
    "l4 = [\"apple\", \"orange\", \"ollo\", \"ball\", \"clown\"]\n",
    "newlist = []\n",
    "\n",
    "for i in l4:\n",
    "    if \"o\" in i:\n",
    "        newlist.append(i)\n",
    "        \n",
    "print(newlist)\n"
   ]
  },
  {
   "cell_type": "code",
   "execution_count": 112,
   "id": "90a1b99e",
   "metadata": {},
   "outputs": [
    {
     "name": "stdout",
     "output_type": "stream",
     "text": [
      "['orange', 'ollo', 'clown']\n"
     ]
    }
   ],
   "source": [
    "#same thing but in one line of code\n",
    "\n",
    "newlist = [i for i in l4 if \"o\" in i]\n",
    "#newlist = [expression for item in iterable if condition == True]\n",
    "print(newlist)\n"
   ]
  },
  {
   "cell_type": "code",
   "execution_count": 113,
   "id": "55203ecb",
   "metadata": {},
   "outputs": [
    {
     "name": "stdout",
     "output_type": "stream",
     "text": [
      "['apple', 'ball', 'clown', 'ollo', 'orange']\n"
     ]
    }
   ],
   "source": [
    "l4.sort()\n",
    "print(l4)"
   ]
  },
  {
   "cell_type": "markdown",
   "id": "25245c04",
   "metadata": {},
   "source": [
    "## Tuples"
   ]
  },
  {
   "cell_type": "markdown",
   "id": "0bd822c0",
   "metadata": {},
   "source": [
    "Tuples are used to store multiple items in a single variable.\n",
    "\n",
    "Tuple is one of 4 built-in data types in Python used to store collections of data, the other 3 are List, Set, and Dictionary, all with different qualities and usage.\n",
    "\n",
    "A tuple is a collection which is ordered and unchangeable. Once a tuple is created, you cannot change its values. Tuples are unchangeable, or immutable as it also is called.\n",
    "\n",
    "Tuples are written with round brackets."
   ]
  },
  {
   "cell_type": "code",
   "execution_count": 114,
   "id": "10f90afc",
   "metadata": {},
   "outputs": [
    {
     "name": "stdout",
     "output_type": "stream",
     "text": [
      "('T1', 'U2', 'Nirvana')\n"
     ]
    }
   ],
   "source": [
    "my_tup = (\"T1\", \"U2\", \"Nirvana\")\n",
    "print(my_tup)"
   ]
  },
  {
   "cell_type": "code",
   "execution_count": 115,
   "id": "fe779cfb",
   "metadata": {},
   "outputs": [
    {
     "data": {
      "text/plain": [
       "tuple"
      ]
     },
     "execution_count": 115,
     "metadata": {},
     "output_type": "execute_result"
    }
   ],
   "source": [
    "type(my_tup)"
   ]
  },
  {
   "cell_type": "code",
   "execution_count": 116,
   "id": "4526b5f1",
   "metadata": {},
   "outputs": [
    {
     "data": {
      "text/plain": [
       "'U2'"
      ]
     },
     "execution_count": 116,
     "metadata": {},
     "output_type": "execute_result"
    }
   ],
   "source": [
    "my_tup[1]"
   ]
  },
  {
   "cell_type": "markdown",
   "id": "9a85bd37",
   "metadata": {},
   "source": [
    "## Sets\n",
    "\n",
    "Sets are used to store multiple items in a single variable.\n",
    "\n",
    "A set is a collection which is unordered, unchangeable*, and unindexed.\n",
    "\n",
    "Duplicates are not allowed."
   ]
  },
  {
   "cell_type": "code",
   "execution_count": 117,
   "id": "a6177cc5",
   "metadata": {},
   "outputs": [
    {
     "name": "stdout",
     "output_type": "stream",
     "text": [
      "{'Nirvana', 'U2', 'T1'}\n"
     ]
    }
   ],
   "source": [
    "my_set = {\"T1\", \"U2\", \"Nirvana\"}\n",
    "print(my_set)"
   ]
  },
  {
   "cell_type": "code",
   "execution_count": 118,
   "id": "ef879918",
   "metadata": {},
   "outputs": [
    {
     "name": "stdout",
     "output_type": "stream",
     "text": [
      "True\n"
     ]
    }
   ],
   "source": [
    "#Check if item is in set\n",
    "print(\"U2\" in my_set)"
   ]
  },
  {
   "cell_type": "markdown",
   "id": "d777b992",
   "metadata": {},
   "source": [
    "## Dictionary\n",
    "\n",
    "Dictionaries are used to store data values in key:value pairs.\n",
    "\n",
    "A dictionary is a collection which is ordered*, changeable and do not allow duplicates.\n",
    "\n",
    "Dictionaries are written with curly brackets, and have keys and values.\n",
    "\n",
    "The values in dictionary items can be of any data type\n",
    "\n",
    "There are four collection data types in the Python programming language:\n",
    "\n",
    "    List is a collection which is ordered and changeable. Allows duplicate members.\n",
    "    Tuple is a collection which is ordered and unchangeable. Allows duplicate members.\n",
    "    Set is a collection which is unordered, unchangeable*, and unindexed. No duplicate members.\n",
    "    Dictionary is a collection which is ordered** and changeable. No duplicate members."
   ]
  },
  {
   "cell_type": "code",
   "execution_count": 121,
   "id": "06ba478a",
   "metadata": {},
   "outputs": [
    {
     "name": "stdout",
     "output_type": "stream",
     "text": [
      "{'model': 'electric', 'brand': 'Fender', 'year': 1971}\n"
     ]
    }
   ],
   "source": [
    "guitar_dict = {\n",
    "    \"model\": \"electric\",\n",
    "    \"brand\": \"Fender\",\n",
    "    \"year\": 1971\n",
    "}\n",
    "\n",
    "print(guitar_dict)"
   ]
  },
  {
   "cell_type": "code",
   "execution_count": 122,
   "id": "c7b4db60",
   "metadata": {},
   "outputs": [
    {
     "data": {
      "text/plain": [
       "3"
      ]
     },
     "execution_count": 122,
     "metadata": {},
     "output_type": "execute_result"
    }
   ],
   "source": [
    "#number of items in dictionary\n",
    "len(guitar_dict)"
   ]
  },
  {
   "cell_type": "code",
   "execution_count": 123,
   "id": "33055c3f",
   "metadata": {},
   "outputs": [
    {
     "data": {
      "text/plain": [
       "'Fender'"
      ]
     },
     "execution_count": 123,
     "metadata": {},
     "output_type": "execute_result"
    }
   ],
   "source": [
    "#access brand key\n",
    "guitar_dict.get(\"brand\")"
   ]
  },
  {
   "cell_type": "code",
   "execution_count": 125,
   "id": "f8bed0de",
   "metadata": {},
   "outputs": [
    {
     "name": "stdout",
     "output_type": "stream",
     "text": [
      "dict_keys(['model', 'brand', 'year'])\n"
     ]
    }
   ],
   "source": [
    "#get list of keys\n",
    "x = guitar_dict.keys()\n",
    "print(x)"
   ]
  },
  {
   "cell_type": "code",
   "execution_count": 126,
   "id": "6d8f885c",
   "metadata": {},
   "outputs": [
    {
     "name": "stdout",
     "output_type": "stream",
     "text": [
      "dict_values(['electric', 'Fender', 1971])\n"
     ]
    }
   ],
   "source": [
    "#get list of values\n",
    "x = guitar_dict.values()\n",
    "print(x)"
   ]
  },
  {
   "cell_type": "code",
   "execution_count": 128,
   "id": "ac988f8e",
   "metadata": {},
   "outputs": [
    {
     "name": "stdout",
     "output_type": "stream",
     "text": [
      "dict_items([('model', 'electric'), ('brand', 'Fender'), ('year', 1971)])\n"
     ]
    }
   ],
   "source": [
    "#get list of key value pairs\n",
    "x = guitar_dict.items()\n",
    "print(x)"
   ]
  },
  {
   "cell_type": "code",
   "execution_count": 135,
   "id": "e95d0582",
   "metadata": {},
   "outputs": [
    {
     "name": "stdout",
     "output_type": "stream",
     "text": [
      "electric\n",
      "Fender\n",
      "1971\n"
     ]
    }
   ],
   "source": [
    "#loop and print all values\n",
    "\n",
    "for i in guitar_dict:\n",
    "    print(guitar_dict[i])\n",
    "    "
   ]
  },
  {
   "cell_type": "code",
   "execution_count": 136,
   "id": "4cf13108",
   "metadata": {},
   "outputs": [],
   "source": [
    "#Nested Dictionary\n",
    "\n",
    "family = {\n",
    "    \"child1\": {\n",
    "        \"name\": \"Patrick\",\n",
    "        \"age\": \"13\"},\n",
    "    \"child2\": {\n",
    "        \"name\": \"Susan\",\n",
    "        \"age\": \"4\"},\n",
    "    \"child3\": {\n",
    "        \"name\": \"Bert\",\n",
    "        \"age\": \"8\"}\n",
    "    \n",
    "}"
   ]
  },
  {
   "cell_type": "code",
   "execution_count": 137,
   "id": "0a77abcb",
   "metadata": {},
   "outputs": [
    {
     "name": "stdout",
     "output_type": "stream",
     "text": [
      "Susan\n"
     ]
    }
   ],
   "source": [
    "#access items in nested dictionary\n",
    "print(family[\"child2\"][\"name\"])"
   ]
  },
  {
   "cell_type": "markdown",
   "id": "4002840f",
   "metadata": {},
   "source": [
    "## if-else"
   ]
  },
  {
   "cell_type": "code",
   "execution_count": 149,
   "id": "3fc5226a",
   "metadata": {},
   "outputs": [
    {
     "name": "stdout",
     "output_type": "stream",
     "text": [
      "We have a match\n"
     ]
    }
   ],
   "source": [
    "a = 30\n",
    "b = 30\n",
    "if a == b:\n",
    "    print(\"We have a match\")\n",
    "elif a > b:\n",
    "    print(\"A is bigger.\")\n",
    "else: \n",
    "    print(\"B is bigger.\")"
   ]
  },
  {
   "cell_type": "code",
   "execution_count": 153,
   "id": "61538963",
   "metadata": {},
   "outputs": [
    {
     "name": "stdout",
     "output_type": "stream",
     "text": [
      "A is bigger.\n"
     ]
    }
   ],
   "source": [
    "#written in short hand\n",
    "a = 50\n",
    "b = 40\n",
    "if a == b: print(\"We have a match\")\n",
    "elif a > b: print(\"A is bigger.\")\n",
    "else: print(\"B is bigger.\")"
   ]
  },
  {
   "cell_type": "code",
   "execution_count": 155,
   "id": "e4bb1e46",
   "metadata": {},
   "outputs": [
    {
     "name": "stdout",
     "output_type": "stream",
     "text": [
      "A is the smallest\n"
     ]
    }
   ],
   "source": [
    "# and or\n",
    "a = 1\n",
    "b = 2\n",
    "c = 3\n",
    "if a < b and a < c: print(\"A is the smallest\")"
   ]
  },
  {
   "cell_type": "markdown",
   "id": "12fa8e54",
   "metadata": {},
   "source": [
    "## While loops"
   ]
  },
  {
   "cell_type": "code",
   "execution_count": 158,
   "id": "0ecba396",
   "metadata": {},
   "outputs": [
    {
     "name": "stdout",
     "output_type": "stream",
     "text": [
      "1\n",
      "2\n",
      "3\n",
      "4\n",
      "5\n",
      "6\n"
     ]
    }
   ],
   "source": [
    "#while loop example\n",
    "i = 1\n",
    "while i <= 6:\n",
    "    print(i)\n",
    "    i += 1"
   ]
  },
  {
   "cell_type": "code",
   "execution_count": 159,
   "id": "6ebeaa04",
   "metadata": {},
   "outputs": [
    {
     "name": "stdout",
     "output_type": "stream",
     "text": [
      "1\n",
      "2\n",
      "3\n",
      "4\n"
     ]
    }
   ],
   "source": [
    "#break statement\n",
    "i = 1\n",
    "while i <= 6:\n",
    "    print(i)\n",
    "    if i == 4:\n",
    "        break\n",
    "    i += 1"
   ]
  },
  {
   "cell_type": "markdown",
   "id": "f526bfdf",
   "metadata": {},
   "source": [
    "## For loops\n",
    "A for loop is used for iterating over a sequence (that is either a list, a tuple, a dictionary, a set, or a string).\n",
    "\n",
    "This is less like the for keyword in other programming languages, and works more like an iterator method as found in other object-orientated programming languages."
   ]
  },
  {
   "cell_type": "code",
   "execution_count": 161,
   "id": "d7cd0eb7",
   "metadata": {},
   "outputs": [
    {
     "name": "stdout",
     "output_type": "stream",
     "text": [
      "apple\n",
      "banana\n",
      "orange\n",
      "kiwi\n",
      "tomato\n"
     ]
    }
   ],
   "source": [
    "#print list items\n",
    "mylist = [\"apple\", \"banana\", \"orange\", \"kiwi\", \"tomato\"]\n",
    "for i in mylist: print(i)"
   ]
  },
  {
   "cell_type": "code",
   "execution_count": 163,
   "id": "35392d94",
   "metadata": {},
   "outputs": [
    {
     "name": "stdout",
     "output_type": "stream",
     "text": [
      "apple\n",
      "banana\n",
      "orange\n",
      "kiwi\n"
     ]
    }
   ],
   "source": [
    "#Break statement\n",
    "for i in mylist: \n",
    "    print(i)\n",
    "    if i == \"kiwi\":\n",
    "        break\n",
    "\n",
    "    "
   ]
  },
  {
   "cell_type": "code",
   "execution_count": 166,
   "id": "73363290",
   "metadata": {},
   "outputs": [
    {
     "name": "stdout",
     "output_type": "stream",
     "text": [
      "apple\n",
      "banana\n",
      "orange\n",
      "kiwi\n",
      "tomato\n",
      "finally finished\n"
     ]
    }
   ],
   "source": [
    "#else block to run after for loop is finished\n",
    "for i in mylist: \n",
    "    print(i)\n",
    "else:\n",
    "    print(\"finally finished\")"
   ]
  },
  {
   "cell_type": "code",
   "execution_count": 168,
   "id": "6bcf8de7",
   "metadata": {},
   "outputs": [
    {
     "name": "stdout",
     "output_type": "stream",
     "text": [
      "apple 10\n",
      "apple 20\n",
      "apple 30\n",
      "banana 10\n",
      "banana 20\n",
      "banana 30\n",
      "orange 10\n",
      "orange 20\n",
      "orange 30\n",
      "kiwi 10\n",
      "kiwi 20\n",
      "kiwi 30\n",
      "tomato 10\n",
      "tomato 20\n",
      "tomato 30\n"
     ]
    }
   ],
   "source": [
    "#nested for loops\n",
    "mylist2 = [10, 20, 30]\n",
    "for i in mylist:\n",
    "    for j in mylist2:\n",
    "        print(i,j)\n"
   ]
  },
  {
   "cell_type": "markdown",
   "id": "cb980516",
   "metadata": {},
   "source": [
    "# Functions\n",
    "A function is a block of code which only runs when it is called.\n",
    "\n",
    "You can pass data, known as parameters, into a function.\n",
    "\n",
    "A function can return data as a result."
   ]
  },
  {
   "cell_type": "code",
   "execution_count": 172,
   "id": "3d57eb53",
   "metadata": {},
   "outputs": [
    {
     "name": "stdout",
     "output_type": "stream",
     "text": [
      "This is my function\n"
     ]
    }
   ],
   "source": [
    "#simple function\n",
    "def my_func():\n",
    "    print(\"This is my function\")\n",
    "    \n",
    "my_func()"
   ]
  },
  {
   "cell_type": "code",
   "execution_count": 176,
   "id": "07300638",
   "metadata": {},
   "outputs": [
    {
     "name": "stdout",
     "output_type": "stream",
     "text": [
      "My name is Erik\n",
      "My name is Bill\n",
      "My name is Oscar\n"
     ]
    }
   ],
   "source": [
    "#function with parameters (or argumets). Send a list to a function\n",
    "def my_func(names):\n",
    "    for i in names:\n",
    "        txt = \"My name is {}\"\n",
    "        print(txt.format(i))\n",
    "\n",
    "name_list = [\"Erik\", \"Bill\", \"Oscar\"]\n",
    "my_func(name_list)"
   ]
  },
  {
   "cell_type": "code",
   "execution_count": 184,
   "id": "8b972175",
   "metadata": {},
   "outputs": [
    {
     "name": "stdout",
     "output_type": "stream",
     "text": [
      "my name is Bob Sagott and I am 40 old.\n"
     ]
    }
   ],
   "source": [
    "#multiple arguments\n",
    "fn = \"Bob\"\n",
    "ln = \"Sagott\"\n",
    "age = 40\n",
    "\n",
    "def print_profile(fname, lname, age):\n",
    "    txt = \"My name is {} {} and I am {} old.\"\n",
    "    print(txt.format(fname, lname, age))\n",
    "    \n",
    "\n",
    "print_profile(fn, ln, age)"
   ]
  },
  {
   "cell_type": "code",
   "execution_count": 193,
   "id": "34daf981",
   "metadata": {},
   "outputs": [
    {
     "name": "stdout",
     "output_type": "stream",
     "text": [
      "My name is Bob Sagott and I am 40 old.\n"
     ]
    }
   ],
   "source": [
    "# send dictionary to function\n",
    "\n",
    "profile = {\n",
    "    \"fname\": \"Bob\",\n",
    "    \"lname\": \"Sagott\",\n",
    "    \"age\": 40\n",
    "}\n",
    "\n",
    "def print_profile(user):\n",
    "    user.get(\"fname\")\n",
    "    txt = \"My name is {} {} and I am {} old.\"\n",
    "    print(txt.format(user.get(\"fname\"), user.get(\"lname\"), user.get(\"age\")))\n",
    "    \n",
    "    \n",
    "print_profile(profile)"
   ]
  },
  {
   "cell_type": "code",
   "execution_count": 194,
   "id": "64985523",
   "metadata": {},
   "outputs": [
    {
     "name": "stdout",
     "output_type": "stream",
     "text": [
      "Pat Floppy Goose\n"
     ]
    }
   ],
   "source": [
    "#Key-value argument\n",
    "\n",
    "def kids(child1, child2, child3):\n",
    "    print(child1, child2, child3)\n",
    "    \n",
    "kids(child1 = \"Pat\", child2 = \"Floppy\", child3 = \"Goose\")"
   ]
  },
  {
   "cell_type": "code",
   "execution_count": 197,
   "id": "441fe57e",
   "metadata": {},
   "outputs": [
    {
     "name": "stdout",
     "output_type": "stream",
     "text": [
      "Sweden is the greatest place on earth.\n"
     ]
    }
   ],
   "source": [
    "#default paramter\n",
    "def my_func(country = \"Sweden\"):\n",
    "    txt = \"{} is the greatest place on earth.\"\n",
    "    print(txt.format(country))\n",
    "    \n",
    "my_func()"
   ]
  },
  {
   "cell_type": "code",
   "execution_count": 207,
   "id": "7dde2c50",
   "metadata": {},
   "outputs": [
    {
     "name": "stdout",
     "output_type": "stream",
     "text": [
      "Your total for shopping is $24.95\n"
     ]
    }
   ],
   "source": [
    "#Return a value \n",
    "def my_func(price, quantity):\n",
    "    cost = price * quantity\n",
    "    return cost\n",
    "\n",
    "price = 4.99\n",
    "quant = 5\n",
    "\n",
    "#call function and round to two decimal places\n",
    "Basket_value = round(my_func(price, quant), 2)\n",
    "\n",
    "txt = \"Your total for shopping is ${}\"\n",
    "print(txt.format(Basket_value))\n",
    "    "
   ]
  },
  {
   "cell_type": "markdown",
   "id": "bd6feeae",
   "metadata": {},
   "source": [
    "## Lambda\n",
    "A lambda function is a small anonymous function.\n",
    "\n",
    "A lambda function can take any number of arguments, but can only have one expression. Useful as an anonymous function inside another function.\n",
    "\n",
    "Syntax \n",
    "\n",
    "lambda arguments : expression"
   ]
  },
  {
   "cell_type": "code",
   "execution_count": 208,
   "id": "86135fce",
   "metadata": {},
   "outputs": [
    {
     "name": "stdout",
     "output_type": "stream",
     "text": [
      "8\n"
     ]
    }
   ],
   "source": [
    "#example lambda functions\n",
    "\n",
    "x = lambda a, b: a * b\n",
    "\n",
    "print(x(2, 4))"
   ]
  },
  {
   "cell_type": "markdown",
   "id": "120998af",
   "metadata": {},
   "source": [
    "## Classes and Objects\n",
    "Python is an object oriented programming language.\n",
    "\n",
    "Almost everything in Python is an object, with its properties and methods.\n",
    "\n",
    "A Class is like an object constructor, or a \"blueprint\" for creating objects."
   ]
  },
  {
   "cell_type": "code",
   "execution_count": 215,
   "id": "e3051722",
   "metadata": {},
   "outputs": [
    {
     "name": "stdout",
     "output_type": "stream",
     "text": [
      "John\n",
      "36\n"
     ]
    }
   ],
   "source": [
    "#Create a class named Person, use the __init__() function to assign values for name and age:\n",
    "\n",
    "class Person:\n",
    "  def __init__(self, name, age):\n",
    "    self.name = name\n",
    "    self.age = age\n",
    "\n",
    "p1 = Person(\"John\", 36)\n",
    "\n",
    "print(p1.name)\n",
    "print(p1.age)\n",
    "\n"
   ]
  },
  {
   "cell_type": "markdown",
   "id": "27cabbfe",
   "metadata": {},
   "source": [
    "## Python module\n",
    "\n",
    "Consider a module to be the same as a code library.\n",
    "\n",
    "A file containing a set of functions you want to include in your application.\n",
    "\n",
    "To create a module just save the code you want in a file with the file extension .py"
   ]
  },
  {
   "cell_type": "markdown",
   "id": "44c59647",
   "metadata": {},
   "source": [
    "## Python Datetime\n",
    "A date in Python is not a data type of its own, but we can import a module named datetime to work with dates as date objects.\n",
    "\n",
    "The datetime() class also takes parameters for time and timezone (hour, minute, second, microsecond, tzone), but they are optional"
   ]
  },
  {
   "cell_type": "code",
   "execution_count": 218,
   "id": "fb0aceb6",
   "metadata": {},
   "outputs": [
    {
     "name": "stdout",
     "output_type": "stream",
     "text": [
      "2023-04-25 15:04:17.902101\n"
     ]
    }
   ],
   "source": [
    "import datetime\n",
    "\n",
    "x = datetime.datetime.now()\n",
    "print(x)"
   ]
  },
  {
   "cell_type": "code",
   "execution_count": 221,
   "id": "33ca52b2",
   "metadata": {},
   "outputs": [
    {
     "name": "stdout",
     "output_type": "stream",
     "text": [
      "2023\n",
      "1\n",
      "25\n",
      "15\n"
     ]
    }
   ],
   "source": [
    "#print various methods\n",
    "\n",
    "print(x.year)\n",
    "print(x.weekday())\n",
    "print(x.day)\n",
    "print(x.hour)"
   ]
  },
  {
   "cell_type": "markdown",
   "id": "ccf8bd9f",
   "metadata": {},
   "source": [
    "The datetime object has a method for formatting date objects into readable strings.\n",
    "\n",
    "The method is called strftime(), and takes one parameter, format, to specify the format of the returned string:"
   ]
  },
  {
   "cell_type": "code",
   "execution_count": 222,
   "id": "c0a07f13",
   "metadata": {},
   "outputs": [
    {
     "name": "stdout",
     "output_type": "stream",
     "text": [
      "June\n"
     ]
    }
   ],
   "source": [
    "x = datetime.datetime(2018, 6, 1)\n",
    "\n",
    "print(x.strftime(\"%B\"))"
   ]
  },
  {
   "cell_type": "markdown",
   "id": "36298119",
   "metadata": {},
   "source": [
    "## JSON\n",
    "If you have a JSON string, you can parse it by using the json.loads() method."
   ]
  },
  {
   "cell_type": "code",
   "execution_count": 228,
   "id": "6bf731c4",
   "metadata": {},
   "outputs": [
    {
     "name": "stdout",
     "output_type": "stream",
     "text": [
      "John\n",
      "30\n",
      "New York\n"
     ]
    }
   ],
   "source": [
    "import json\n",
    "\n",
    "# some JSON:\n",
    "x =  '{ \"name\":\"John\", \"age\":30, \"city\":\"New York\"}'\n",
    "\n",
    "# parse x:\n",
    "y = json.loads(x)\n",
    "\n",
    "# the result is a Python dictionary:\n",
    "for i in y:\n",
    "    print(y[i])"
   ]
  },
  {
   "cell_type": "markdown",
   "id": "f4c81492",
   "metadata": {},
   "source": [
    "If you have a Python object, you can convert it into a JSON string by using the json.dumps() method."
   ]
  },
  {
   "cell_type": "code",
   "execution_count": 224,
   "id": "b1c43e49",
   "metadata": {},
   "outputs": [
    {
     "name": "stdout",
     "output_type": "stream",
     "text": [
      "{\"name\": \"John\", \"age\": 30, \"city\": \"New York\"}\n"
     ]
    }
   ],
   "source": [
    "# a Python object (dict):\n",
    "x = {\n",
    "  \"name\": \"John\",\n",
    "  \"age\": 30,\n",
    "  \"city\": \"New York\"\n",
    "}\n",
    "\n",
    "# convert into JSON:\n",
    "y = json.dumps(x)\n",
    "\n",
    "# the result is a JSON string:\n",
    "print(y)"
   ]
  },
  {
   "cell_type": "code",
   "execution_count": 225,
   "id": "b86a8dd7",
   "metadata": {},
   "outputs": [
    {
     "name": "stdout",
     "output_type": "stream",
     "text": [
      "{\"name\": \"John\", \"age\": 30, \"married\": true, \"divorced\": false, \"children\": [\"Ann\", \"Billy\"], \"pets\": null, \"cars\": [{\"model\": \"BMW 230\", \"mpg\": 27.5}, {\"model\": \"Ford Edge\", \"mpg\": 24.1}]}\n"
     ]
    }
   ],
   "source": [
    "# Convert a Python object containing all the legal data types:\n",
    "\n",
    "import json\n",
    "\n",
    "x = {\n",
    "  \"name\": \"John\",\n",
    "  \"age\": 30,\n",
    "  \"married\": True,\n",
    "  \"divorced\": False,\n",
    "  \"children\": (\"Ann\",\"Billy\"),\n",
    "  \"pets\": None,\n",
    "  \"cars\": [\n",
    "    {\"model\": \"BMW 230\", \"mpg\": 27.5},\n",
    "    {\"model\": \"Ford Edge\", \"mpg\": 24.1}\n",
    "  ]\n",
    "}\n",
    "\n",
    "print(json.dumps(x))"
   ]
  },
  {
   "cell_type": "markdown",
   "id": "8aa66a56",
   "metadata": {},
   "source": [
    "## Regex\n",
    "https://www.w3schools.com/python/python_regex.asp\n",
    "\n",
    "A RegEx, or Regular Expression, is a sequence of characters that forms a search pattern.\n",
    "\n",
    "RegEx can be used to check if a string contains the specified search pattern.\n",
    "\n",
    "re module\n",
    "\n",
    "Function\tDescription\n",
    "\n",
    "findall\t    Returns a list containing all matches\n",
    "\n",
    "search\t    Returns a Match object if there is a match anywhere in the string\n",
    "\n",
    "split\t    Returns a list where the string has been split at each match\n",
    "\n",
    "sub\t        Replaces one or many matches with a string"
   ]
  },
  {
   "cell_type": "code",
   "execution_count": 242,
   "id": "02292110",
   "metadata": {},
   "outputs": [
    {
     "name": "stdout",
     "output_type": "stream",
     "text": [
      "['Oklahoma']\n"
     ]
    }
   ],
   "source": [
    "import re\n",
    "\n",
    "txt = \"Oklahoma has three overlapping abortion bans, with different and sometimes contradictory definitions and exceptions. A study published Tuesday along with a commentary in the Lancet medical journal shows hospitals all over Oklahoma are struggling to interpret the laws and create policies that comply with the state's abortion bans. The resulting confusion is having dangerous consequences for women like Statton.\"\n",
    "#\n",
    "a = re.findall(\"^Oklahoma\", txt)\n",
    "print(a)"
   ]
  },
  {
   "cell_type": "markdown",
   "id": "5f0c04b0",
   "metadata": {},
   "source": [
    "## PIP\n",
    "\n",
    "pip install modules using:"
   ]
  },
  {
   "cell_type": "code",
   "execution_count": 243,
   "id": "c386db6c",
   "metadata": {},
   "outputs": [],
   "source": [
    "#pip install <name of module>"
   ]
  },
  {
   "cell_type": "markdown",
   "id": "d61c6fd8",
   "metadata": {},
   "source": [
    "## User input"
   ]
  },
  {
   "cell_type": "code",
   "execution_count": 244,
   "id": "60a836e8",
   "metadata": {},
   "outputs": [
    {
     "name": "stdout",
     "output_type": "stream",
     "text": [
      "Enter username:Erik\n",
      "Username is: Erik\n"
     ]
    }
   ],
   "source": [
    "username = input(\"Enter username:\")\n",
    "print(\"Username is: \" + username)"
   ]
  },
  {
   "cell_type": "code",
   "execution_count": null,
   "id": "224f3044",
   "metadata": {},
   "outputs": [],
   "source": []
  }
 ],
 "metadata": {
  "kernelspec": {
   "display_name": "Python 3 (ipykernel)",
   "language": "python",
   "name": "python3"
  },
  "language_info": {
   "codemirror_mode": {
    "name": "ipython",
    "version": 3
   },
   "file_extension": ".py",
   "mimetype": "text/x-python",
   "name": "python",
   "nbconvert_exporter": "python",
   "pygments_lexer": "ipython3",
   "version": "3.9.7"
  }
 },
 "nbformat": 4,
 "nbformat_minor": 5
}
